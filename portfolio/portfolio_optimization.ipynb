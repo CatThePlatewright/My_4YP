{
 "cells": [
  {
   "cell_type": "code",
   "execution_count": 10,
   "id": "9b13fff3-dce9-4744-b4e9-27517a205d4e",
   "metadata": {},
   "outputs": [
    {
     "data": {
      "text/plain": [
       "' plt.rcParams.update({\\n    \"text.usetex\": True,\\n    \"font.family\": \"sans-serif\",\\n    \"font.sans-serif\": [\"Helvetica Neue\"],\\n    \"font.size\": 28,\\n    }) '"
      ]
     },
     "execution_count": 10,
     "metadata": {},
     "output_type": "execute_result"
    }
   ],
   "source": [
    "from tqdm import tqdm\n",
    "import pandas as pd\n",
    "import numpy as np\n",
    "import matplotlib.pyplot as plt\n",
    "#import matplotlib as mpl\n",
    "plt.rcParams.update(plt.rcParamsDefault)\n",
    "\n",
    "import cvxpy as cp\n",
    "\"\"\" plt.rcParams.update({\n",
    "    \"text.usetex\": True,\n",
    "    \"font.family\": \"sans-serif\",\n",
    "    \"font.sans-serif\": [\"Helvetica Neue\"],\n",
    "    \"font.size\": 28,\n",
    "    }) \"\"\""
   ]
  },
  {
   "cell_type": "code",
   "execution_count": 2,
   "id": "9791f4cb-c426-446f-ba9f-8c0b4a45ec9d",
   "metadata": {},
   "outputs": [],
   "source": [
    "# Load data\n",
    "prices = pd.read_csv(\"portfolio_data.csv\")\n",
    "returns = (np.array(prices.iloc[1:,:]) - np.array(prices.iloc[:-1,:])) / prices.iloc[:-1,:]\n",
    "R = returns.iloc[:2000,:].to_numpy()\n",
    "R_test = returns.iloc[2000:2500,:].to_numpy()\n",
    "#returns.to_csv(\"portfolio_returns.csv\")"
   ]
  },
  {
   "cell_type": "markdown",
   "id": "d6747427-7309-42d1-826c-6295b8292829",
   "metadata": {
    "tags": []
   },
   "source": [
    "## Cumulative portfolio value over time"
   ]
  },
  {
   "cell_type": "code",
   "execution_count": 3,
   "id": "03f5bd9c-a09a-423f-b8c5-576ad1cb2fc2",
   "metadata": {},
   "outputs": [
    {
     "name": "stdout",
     "output_type": "stream",
     "text": [
      "V_T original =  10040.789980707086\n",
      "V_T approx =  10053.183972673178\n"
     ]
    }
   ],
   "source": [
    "# Cumulative portfolo value over time\n",
    "def portfolio_V(V_0, r):\n",
    "    return V_0 * np.cumprod(1 + r)\n",
    "\n",
    "# Check exact value vs approximation\n",
    "T = 250\n",
    "mu, sigma = .10/T, .05/np.sqrt(T)\n",
    "r = mu + sigma * np.random.randn(T)\n",
    "V0 = 10000\n",
    "V = portfolio_V(V0, r)\n",
    "\n",
    "print(\"V_T original = \", V[T-1])\n",
    "print(\"V_T approx = \", (V0*(1 + np.sum(r))))"
   ]
  },
  {
   "cell_type": "markdown",
   "id": "6d46e504-5696-422b-9b4c-93ad8aff4ed1",
   "metadata": {},
   "source": [
    "## Portfolio return, risk and leverage"
   ]
  },
  {
   "cell_type": "code",
   "execution_count": 4,
   "id": "df6cf949-b8b3-4c9e-9abf-cf151061d5a3",
   "metadata": {},
   "outputs": [
    {
     "name": "stdout",
     "output_type": "stream",
     "text": [
      "Portfolio return = 9.66%\n",
      "Portfolio risk = 232.69%\n",
      "Leverage = 1.00\n"
     ]
    }
   ],
   "source": [
    "T, n = R.shape\n",
    "T_test = R_test.shape[0]\n",
    "w = np.ones(n)/n  # equal portfolio\n",
    "r = R @ w # portfolio return time series\n",
    "\n",
    "def annualize_return(r):\n",
    "     return 250 * np.sum(r) / len(r)\n",
    "    \n",
    "def annualize_risk(r):\n",
    "    return 250 * np.linalg.norm(r - np.mean(r) * np.ones(len(r)), 1) / len(r)\n",
    "    # return np.sqrt(250) * np.std(r)\n",
    "\n",
    "def leverage(w):\n",
    "    return np.linalg.norm(w, 1)\n",
    "    \n",
    "\n",
    "pf_return = annualize_return(r)\n",
    "pf_risk = annualize_risk(r)\n",
    "pf_leverage = leverage(w)\n",
    "print(\"Portfolio return = %.2f%%\" % (pf_return * 100))\n",
    "print(\"Portfolio risk = %.2f%%\" % (pf_risk * 100))\n",
    "print(\"Leverage = %.2f\" % (pf_leverage))"
   ]
  },
  {
   "cell_type": "markdown",
   "id": "1a84008c-ffe6-4ea8-8a90-441b3f8d480d",
   "metadata": {
    "tags": []
   },
   "source": [
    "## Optimize for different trade-off parameters $\\lambda$"
   ]
  },
  {
   "cell_type": "code",
   "execution_count": 18,
   "id": "a9c2c926-923a-49bb-98c7-c1adb97278e4",
   "metadata": {},
   "outputs": [
    {
     "name": "stdout",
     "output_type": "stream",
     "text": [
      "[0.01       0.00464159 0.00215443 0.001     ]\n",
      "w:  [0.0, 0.0, 0.0, 0.0, 0.0, 0.0, 0.0, 0.0, 0.0, 0.0, 0.0, 0.0, 0.0, 0.64, 0.0, 0.36, 0.0, 0.0, 0.0, 0.0]\n",
      "w:  [0.0, 0.0, 0.0, 0.0, 0.0, 0.0, 0.0, 0.0, 0.0, 0.0, 0.0, 0.0, 0.0, 0.52, 0.0, 0.48, 0.0, 0.0, 0.0, 0.0]\n",
      "w:  [0.0, 0.0, 0.0, 0.0, 0.0, 0.0, 0.0, 0.0, 0.0, 0.0, 0.0, 0.0, 0.0, 0.23, 0.0, 0.77, 0.0, 0.0, 0.0, 0.0]\n",
      "w:  [0.0, 0.0, 0.0, 0.0, 0.0, 0.0, 0.0, 0.0, 0.0, 0.0, 0.0, 0.0, 0.0, 0.0, 0.0, 1.0, 0.0, 0.0, 0.0, 0.0]\n"
     ]
    },
    {
     "ename": "PermissionError",
     "evalue": "[Errno 13] Permission denied: 'total_portfolio.pdf'",
     "output_type": "error",
     "traceback": [
      "\u001b[1;31m---------------------------------------------------------------------------\u001b[0m",
      "\u001b[1;31mPermissionError\u001b[0m                           Traceback (most recent call last)",
      "Cell \u001b[1;32mIn[18], line 84\u001b[0m\n\u001b[0;32m     82\u001b[0m ax[\u001b[39m1\u001b[39m]\u001b[39m.\u001b[39mset_xlim([\u001b[39m0\u001b[39m, T_test])\n\u001b[0;32m     83\u001b[0m ax[\u001b[39m1\u001b[39m]\u001b[39m.\u001b[39mgrid()\n\u001b[1;32m---> 84\u001b[0m plt\u001b[39m.\u001b[39;49msavefig(\u001b[39m\"\u001b[39;49m\u001b[39mtotal_portfolio.pdf\u001b[39;49m\u001b[39m\"\u001b[39;49m)\n",
      "File \u001b[1;32m~\\AppData\\Local\\Packages\\PythonSoftwareFoundation.Python.3.9_qbz5n2kfra8p0\\LocalCache\\local-packages\\Python39\\site-packages\\matplotlib\\pyplot.py:996\u001b[0m, in \u001b[0;36msavefig\u001b[1;34m(*args, **kwargs)\u001b[0m\n\u001b[0;32m    993\u001b[0m \u001b[39m@_copy_docstring_and_deprecators\u001b[39m(Figure\u001b[39m.\u001b[39msavefig)\n\u001b[0;32m    994\u001b[0m \u001b[39mdef\u001b[39;00m \u001b[39msavefig\u001b[39m(\u001b[39m*\u001b[39margs, \u001b[39m*\u001b[39m\u001b[39m*\u001b[39mkwargs):\n\u001b[0;32m    995\u001b[0m     fig \u001b[39m=\u001b[39m gcf()\n\u001b[1;32m--> 996\u001b[0m     res \u001b[39m=\u001b[39m fig\u001b[39m.\u001b[39msavefig(\u001b[39m*\u001b[39margs, \u001b[39m*\u001b[39m\u001b[39m*\u001b[39mkwargs)\n\u001b[0;32m    997\u001b[0m     fig\u001b[39m.\u001b[39mcanvas\u001b[39m.\u001b[39mdraw_idle()  \u001b[39m# Need this if 'transparent=True', to reset colors.\u001b[39;00m\n\u001b[0;32m    998\u001b[0m     \u001b[39mreturn\u001b[39;00m res\n",
      "File \u001b[1;32m~\\AppData\\Local\\Packages\\PythonSoftwareFoundation.Python.3.9_qbz5n2kfra8p0\\LocalCache\\local-packages\\Python39\\site-packages\\matplotlib\\figure.py:3328\u001b[0m, in \u001b[0;36mFigure.savefig\u001b[1;34m(self, fname, transparent, **kwargs)\u001b[0m\n\u001b[0;32m   3324\u001b[0m     \u001b[39mfor\u001b[39;00m ax \u001b[39min\u001b[39;00m \u001b[39mself\u001b[39m\u001b[39m.\u001b[39maxes:\n\u001b[0;32m   3325\u001b[0m         stack\u001b[39m.\u001b[39menter_context(\n\u001b[0;32m   3326\u001b[0m             ax\u001b[39m.\u001b[39mpatch\u001b[39m.\u001b[39m_cm_set(facecolor\u001b[39m=\u001b[39m\u001b[39m'\u001b[39m\u001b[39mnone\u001b[39m\u001b[39m'\u001b[39m, edgecolor\u001b[39m=\u001b[39m\u001b[39m'\u001b[39m\u001b[39mnone\u001b[39m\u001b[39m'\u001b[39m))\n\u001b[1;32m-> 3328\u001b[0m \u001b[39mself\u001b[39m\u001b[39m.\u001b[39mcanvas\u001b[39m.\u001b[39mprint_figure(fname, \u001b[39m*\u001b[39m\u001b[39m*\u001b[39mkwargs)\n",
      "File \u001b[1;32m~\\AppData\\Local\\Packages\\PythonSoftwareFoundation.Python.3.9_qbz5n2kfra8p0\\LocalCache\\local-packages\\Python39\\site-packages\\matplotlib\\backend_bases.py:2362\u001b[0m, in \u001b[0;36mFigureCanvasBase.print_figure\u001b[1;34m(self, filename, dpi, facecolor, edgecolor, orientation, format, bbox_inches, pad_inches, bbox_extra_artists, backend, **kwargs)\u001b[0m\n\u001b[0;32m   2358\u001b[0m \u001b[39mtry\u001b[39;00m:\n\u001b[0;32m   2359\u001b[0m     \u001b[39m# _get_renderer may change the figure dpi (as vector formats\u001b[39;00m\n\u001b[0;32m   2360\u001b[0m     \u001b[39m# force the figure dpi to 72), so we need to set it again here.\u001b[39;00m\n\u001b[0;32m   2361\u001b[0m     \u001b[39mwith\u001b[39;00m cbook\u001b[39m.\u001b[39m_setattr_cm(\u001b[39mself\u001b[39m\u001b[39m.\u001b[39mfigure, dpi\u001b[39m=\u001b[39mdpi):\n\u001b[1;32m-> 2362\u001b[0m         result \u001b[39m=\u001b[39m print_method(\n\u001b[0;32m   2363\u001b[0m             filename,\n\u001b[0;32m   2364\u001b[0m             facecolor\u001b[39m=\u001b[39mfacecolor,\n\u001b[0;32m   2365\u001b[0m             edgecolor\u001b[39m=\u001b[39medgecolor,\n\u001b[0;32m   2366\u001b[0m             orientation\u001b[39m=\u001b[39morientation,\n\u001b[0;32m   2367\u001b[0m             bbox_inches_restore\u001b[39m=\u001b[39m_bbox_inches_restore,\n\u001b[0;32m   2368\u001b[0m             \u001b[39m*\u001b[39m\u001b[39m*\u001b[39mkwargs)\n\u001b[0;32m   2369\u001b[0m \u001b[39mfinally\u001b[39;00m:\n\u001b[0;32m   2370\u001b[0m     \u001b[39mif\u001b[39;00m bbox_inches \u001b[39mand\u001b[39;00m restore_bbox:\n",
      "File \u001b[1;32m~\\AppData\\Local\\Packages\\PythonSoftwareFoundation.Python.3.9_qbz5n2kfra8p0\\LocalCache\\local-packages\\Python39\\site-packages\\matplotlib\\backend_bases.py:2228\u001b[0m, in \u001b[0;36mFigureCanvasBase._switch_canvas_and_return_print_method.<locals>.<lambda>\u001b[1;34m(*args, **kwargs)\u001b[0m\n\u001b[0;32m   2224\u001b[0m     optional_kws \u001b[39m=\u001b[39m {  \u001b[39m# Passed by print_figure for other renderers.\u001b[39;00m\n\u001b[0;32m   2225\u001b[0m         \u001b[39m\"\u001b[39m\u001b[39mdpi\u001b[39m\u001b[39m\"\u001b[39m, \u001b[39m\"\u001b[39m\u001b[39mfacecolor\u001b[39m\u001b[39m\"\u001b[39m, \u001b[39m\"\u001b[39m\u001b[39medgecolor\u001b[39m\u001b[39m\"\u001b[39m, \u001b[39m\"\u001b[39m\u001b[39morientation\u001b[39m\u001b[39m\"\u001b[39m,\n\u001b[0;32m   2226\u001b[0m         \u001b[39m\"\u001b[39m\u001b[39mbbox_inches_restore\u001b[39m\u001b[39m\"\u001b[39m}\n\u001b[0;32m   2227\u001b[0m     skip \u001b[39m=\u001b[39m optional_kws \u001b[39m-\u001b[39m {\u001b[39m*\u001b[39minspect\u001b[39m.\u001b[39msignature(meth)\u001b[39m.\u001b[39mparameters}\n\u001b[1;32m-> 2228\u001b[0m     print_method \u001b[39m=\u001b[39m functools\u001b[39m.\u001b[39mwraps(meth)(\u001b[39mlambda\u001b[39;00m \u001b[39m*\u001b[39margs, \u001b[39m*\u001b[39m\u001b[39m*\u001b[39mkwargs: meth(\n\u001b[0;32m   2229\u001b[0m         \u001b[39m*\u001b[39margs, \u001b[39m*\u001b[39m\u001b[39m*\u001b[39m{k: v \u001b[39mfor\u001b[39;00m k, v \u001b[39min\u001b[39;00m kwargs\u001b[39m.\u001b[39mitems() \u001b[39mif\u001b[39;00m k \u001b[39mnot\u001b[39;00m \u001b[39min\u001b[39;00m skip}))\n\u001b[0;32m   2230\u001b[0m \u001b[39melse\u001b[39;00m:  \u001b[39m# Let third-parties do as they see fit.\u001b[39;00m\n\u001b[0;32m   2231\u001b[0m     print_method \u001b[39m=\u001b[39m meth\n",
      "File \u001b[1;32m~\\AppData\\Local\\Packages\\PythonSoftwareFoundation.Python.3.9_qbz5n2kfra8p0\\LocalCache\\local-packages\\Python39\\site-packages\\matplotlib\\backends\\backend_pdf.py:2808\u001b[0m, in \u001b[0;36mFigureCanvasPdf.print_pdf\u001b[1;34m(self, filename, bbox_inches_restore, metadata)\u001b[0m\n\u001b[0;32m   2806\u001b[0m     file \u001b[39m=\u001b[39m filename\u001b[39m.\u001b[39m_file\n\u001b[0;32m   2807\u001b[0m \u001b[39melse\u001b[39;00m:\n\u001b[1;32m-> 2808\u001b[0m     file \u001b[39m=\u001b[39m PdfFile(filename, metadata\u001b[39m=\u001b[39;49mmetadata)\n\u001b[0;32m   2809\u001b[0m \u001b[39mtry\u001b[39;00m:\n\u001b[0;32m   2810\u001b[0m     file\u001b[39m.\u001b[39mnewPage(width, height)\n",
      "File \u001b[1;32m~\\AppData\\Local\\Packages\\PythonSoftwareFoundation.Python.3.9_qbz5n2kfra8p0\\LocalCache\\local-packages\\Python39\\site-packages\\matplotlib\\backends\\backend_pdf.py:713\u001b[0m, in \u001b[0;36mPdfFile.__init__\u001b[1;34m(self, filename, metadata)\u001b[0m\n\u001b[0;32m    711\u001b[0m \u001b[39mself\u001b[39m\u001b[39m.\u001b[39moriginal_file_like \u001b[39m=\u001b[39m \u001b[39mNone\u001b[39;00m\n\u001b[0;32m    712\u001b[0m \u001b[39mself\u001b[39m\u001b[39m.\u001b[39mtell_base \u001b[39m=\u001b[39m \u001b[39m0\u001b[39m\n\u001b[1;32m--> 713\u001b[0m fh, opened \u001b[39m=\u001b[39m cbook\u001b[39m.\u001b[39;49mto_filehandle(filename, \u001b[39m\"\u001b[39;49m\u001b[39mwb\u001b[39;49m\u001b[39m\"\u001b[39;49m, return_opened\u001b[39m=\u001b[39;49m\u001b[39mTrue\u001b[39;49;00m)\n\u001b[0;32m    714\u001b[0m \u001b[39mif\u001b[39;00m \u001b[39mnot\u001b[39;00m opened:\n\u001b[0;32m    715\u001b[0m     \u001b[39mtry\u001b[39;00m:\n",
      "File \u001b[1;32m~\\AppData\\Local\\Packages\\PythonSoftwareFoundation.Python.3.9_qbz5n2kfra8p0\\LocalCache\\local-packages\\Python39\\site-packages\\matplotlib\\cbook\\__init__.py:489\u001b[0m, in \u001b[0;36mto_filehandle\u001b[1;34m(fname, flag, return_opened, encoding)\u001b[0m\n\u001b[0;32m    487\u001b[0m         fh \u001b[39m=\u001b[39m bz2\u001b[39m.\u001b[39mBZ2File(fname, flag)\n\u001b[0;32m    488\u001b[0m     \u001b[39melse\u001b[39;00m:\n\u001b[1;32m--> 489\u001b[0m         fh \u001b[39m=\u001b[39m \u001b[39mopen\u001b[39;49m(fname, flag, encoding\u001b[39m=\u001b[39;49mencoding)\n\u001b[0;32m    490\u001b[0m     opened \u001b[39m=\u001b[39m \u001b[39mTrue\u001b[39;00m\n\u001b[0;32m    491\u001b[0m \u001b[39melif\u001b[39;00m \u001b[39mhasattr\u001b[39m(fname, \u001b[39m'\u001b[39m\u001b[39mseek\u001b[39m\u001b[39m'\u001b[39m):\n",
      "\u001b[1;31mPermissionError\u001b[0m: [Errno 13] Permission denied: 'total_portfolio.pdf'"
     ]
    }
   ],
   "source": [
    "V0 = 10000\n",
    "n_lam = 4\n",
    "lam_vec = np.logspace(-3, -2, n_lam)[::-1]\n",
    "print(lam_vec)\n",
    "n_assets = R.shape[1]\n",
    "w_data = {}\n",
    "results = []\n",
    "\n",
    "def compute_results(w, r_train, r_test):\n",
    "    return {'Train return': annualize_return(r_train), \n",
    "            'Test return': annualize_return(r_test),\n",
    "            'Train risk': annualize_risk(r_train),\n",
    "            'Test risk': annualize_risk(r_test),\n",
    "            # 'Leverage': leverage(w)\n",
    "           }\n",
    "\n",
    "fig, ax = plt.subplots(1, 2, figsize=(20, 8))\n",
    "\n",
    "# Risk free\n",
    "w = np.zeros(n_assets); w[-1] = 1\n",
    "r_train = R @ w  # Return time series\n",
    "r_test = R_test @ w  # Test return time series\n",
    "\n",
    "w_data.update({r\"$\\rm \\mbox{Risk-free}$\": w})  # append data\n",
    "results.append(compute_results(w, r_train, r_test)) # append results\n",
    "ax[0].plot(np.arange(T), portfolio_V(V0, r_train)/1000, label=r\"Risk-free\")\n",
    "ax[1].plot(np.arange(R_test.shape[0]), portfolio_V(V0, r_test)/1000)\n",
    "# Different lambdas\n",
    "\n",
    "# Define optimization problem\n",
    "w_var = cp.Variable(n_assets)\n",
    "lam = cp.Parameter(nonneg=True)\n",
    "# mu is c\n",
    "mu = np.mean(R, axis=0)  # Average returns across time\n",
    "# ret is c'*x\n",
    "ret = - mu @ w_var \n",
    "# risk is the norm of the average return, we want the variance\n",
    "risk = cp.norm(R @ w_var - ret * np.ones(T), 1)/T\n",
    "objective = ret + lam * risk\n",
    "constraints = [cp.sum(w_var) == 1, w_var >= 0]\n",
    "problem = cp.Problem(cp.Minimize(objective), constraints)\n",
    "\n",
    "\n",
    "for k in range(n_lam):\n",
    "    lam.value = lam_vec[k]\n",
    "    lam_string = r\"$\\lambda = {l:.1e}$\".format(l=lam_vec[k])\n",
    "    problem.solve()\n",
    "    w = w_var.value\n",
    "    r_train = R @ w  # Return time series\n",
    "    #print(\"r_train: \",r_train)\n",
    "    r_test = R_test @ w  # Test return time series\n",
    "    w_data.update({lam_string: w})\n",
    "    print(\"w: \", [ round(elem, 2) for elem in w])\n",
    "    results.append(compute_results(w, r_train, r_test))\n",
    "    ax[0].plot(np.arange(T), portfolio_V(V0, r_train)/1000, label=lam_string)\n",
    "    ax[1].plot(np.arange(R_test.shape[0]), portfolio_V(V0, r_test)/1000)\n",
    "    \n",
    "# Equal invesetment\n",
    "w = np.ones(n_assets)/n_assets\n",
    "r_train = R @ w  # Return time series\n",
    "r_test = R_test @ w  # Test return time series\n",
    "w_data.update({r\"$1/n$\": w})\n",
    "results.append(compute_results(w, r_train, r_test))\n",
    "ax[0].plot(np.arange(T), portfolio_V(V0, r_train)/1000, label=r\"$1/n$\")\n",
    "ax[1].plot(np.arange(R_test.shape[0]), portfolio_V(V0, r_test)/1000)\n",
    "\n",
    "\n",
    "# Create dataframe from results (round to 2 decimals)\n",
    "df_results = pd.DataFrame(results).round(2)\n",
    "\n",
    "# Complete plot\n",
    "ax[0].set_ylabel(\"Portfolio value (thousand dollars)\")\n",
    "ax[0].set_title(\"Train\")\n",
    "ax[0].set_xlabel(\"Day\")\n",
    "ax[0].set_yticks([10, 50, 100, 150])\n",
    "ax[0].set_xlim([0, T])\n",
    "ax[0].grid()\n",
    "ax[0].legend()\n",
    "ax[1].set_xlabel(\"Day\")\n",
    "ax[1].set_title(\"Test\")\n",
    "ax[1].set_yticks([10, 12, 14, 16, 18])\n",
    "ax[1].set_xlim([0, T_test])\n",
    "ax[1].grid()\n",
    "plt.savefig(\"total_portfolio.pdf\")"
   ]
  },
  {
   "cell_type": "markdown",
   "id": "ce99488b",
   "metadata": {},
   "source": []
  },
  {
   "cell_type": "code",
   "execution_count": null,
   "id": "3ab3cede-5c1d-4b81-9c8a-33a4f10e99db",
   "metadata": {},
   "outputs": [],
   "source": [
    "w_df = pd.DataFrame(w_data).T.round(2)\n",
    "w_df.columns = prices.columns\n",
    "w_df"
   ]
  },
  {
   "cell_type": "code",
   "execution_count": null,
   "id": "754662c3-5390-43e0-b780-d389a81875d0",
   "metadata": {},
   "outputs": [],
   "source": [
    "df_results.index = w_df.index  # Use same index to list allocations\n",
    "df_results"
   ]
  },
  {
   "cell_type": "code",
   "execution_count": null,
   "id": "b77bb661-17fb-4807-811e-dcb3cf62c495",
   "metadata": {},
   "outputs": [],
   "source": [
    "# print(df_results.to_latex(index=True, escape=False, float_format=r\"$%.2f$\"))"
   ]
  },
  {
   "cell_type": "markdown",
   "id": "936c8539-2ed4-403f-bb33-31eded8d0189",
   "metadata": {
    "tags": []
   },
   "source": [
    "## Return vs risk pareto frontier (training data)"
   ]
  },
  {
   "cell_type": "code",
   "execution_count": null,
   "id": "916544f8-fde0-48fb-81c8-94f3f3817c08",
   "metadata": {},
   "outputs": [],
   "source": [
    "# Compute returns for individual investments\n",
    "individual_data =[]\n",
    "\n",
    "for k in range(n_assets):\n",
    "    # w = e_k -> r = Rw = kth column of R\n",
    "    r = R[:, k]\n",
    "    individual_data.append({'risk': annualize_risk(r),\n",
    "                            'return': annualize_return(r)})\n",
    "\n",
    "df_individual = pd.DataFrame(individual_data)\n",
    "df_individual.index = w_df.columns\n",
    "df_individual"
   ]
  },
  {
   "cell_type": "code",
   "execution_count": null,
   "id": "bea64078-a2eb-4ebe-96e7-4151c4e92269",
   "metadata": {},
   "outputs": [],
   "source": [
    "fig, ax = plt.subplots(figsize=(14, 14))\n",
    "# ax.plot(x_pareto, y_pareto)\n",
    "ax.scatter(df_individual['risk'], df_individual['return'],  marker='o', s=70, color='k', facecolors='none') \n",
    "ax.scatter(df_results['Train risk'], df_results['Train return'],  marker='o', s=70, color='k', facecolors='k', clip_on=False) \n",
    "ax.plot(df_results['Train risk'][:-1], df_results['Train return'][:-1], color=\"k\") \n",
    "\n",
    "# Annotate risk free and equal investments\n",
    "ax.annotate(r'Risk-free', \n",
    "               (df_results['Train risk'][0], df_results['Train return'][0]),\n",
    "               textcoords=\"offset points\", # how to position the text\n",
    "               xytext=(10,-60), # distance from text to points (x,y)\n",
    "               arrowprops=dict(arrowstyle='-', color='k')\n",
    "              )\n",
    "ax.annotate(r'$1/n$', \n",
    "               (df_results['Train risk'][-1], df_results['Train return'][-1]),\n",
    "               textcoords=\"offset points\", # how to position the text\n",
    "               xytext=(-40,40), # distance from text to points (x,y)\n",
    "               arrowprops=dict(arrowstyle='-', color='k')\n",
    "              )\n",
    "    \n",
    "# ax.set_xlim((0, 0.7))\n",
    "# ax.set_ylim((-0.1, 0.5))\n",
    "ax.grid()\n",
    "ax.set_xlabel(\"Annualized risk\")\n",
    "ax.set_ylabel(\"Annualized return\")\n",
    "plt.savefig(\"pareto_portfolio.pdf\")"
   ]
  },
  {
   "cell_type": "code",
   "execution_count": null,
   "id": "5a2de269-a555-45aa-887a-962bb99c56f7",
   "metadata": {},
   "outputs": [],
   "source": []
  },
  {
   "cell_type": "code",
   "execution_count": null,
   "id": "5f2aa39f-6a97-4789-80b2-3575079d2cd5",
   "metadata": {},
   "outputs": [],
   "source": []
  }
 ],
 "metadata": {
  "kernelspec": {
   "display_name": "Python 3",
   "language": "python",
   "name": "python3"
  },
  "language_info": {
   "codemirror_mode": {
    "name": "ipython",
    "version": 3
   },
   "file_extension": ".py",
   "mimetype": "text/x-python",
   "name": "python",
   "nbconvert_exporter": "python",
   "pygments_lexer": "ipython3",
   "version": "3.9.13"
  },
  "vscode": {
   "interpreter": {
    "hash": "cfb1b257a466c1f30163a32a48ad8602a5ec9d420867b69806c216b12a524595"
   }
  }
 },
 "nbformat": 4,
 "nbformat_minor": 5
}
